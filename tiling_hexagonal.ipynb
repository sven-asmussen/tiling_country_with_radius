{
 "cells": [
  {
   "cell_type": "markdown",
   "metadata": {},
   "source": [
    "Advanced condition\n",
    "For the second type of tiling/covering"
   ]
  },
  {
   "cell_type": "code",
   "execution_count": null,
   "metadata": {},
   "outputs": [],
   "source": [
    "import numpy as np\n",
    "import geopandas as gpd\n",
    "from shapely.geometry import Point\n",
    "import matplotlib.pyplot as plt\n",
    "import pandas as pd\n",
    "import time\n",
    "\n",
    "time_start = time.time()\n",
    "\n",
    "def create_circular_grid(minx, miny, maxx, maxy, radius, crs):\n",
    "    # Create a grid of points\n",
    "    x_coords = np.arange(minx, maxx, radius * np.sqrt(2))\n",
    "    y_coords = np.arange(miny, maxy, radius * np.sqrt(2))\n",
    "    grid_points = [Point(x, y) for x in x_coords for y in y_coords]\n",
    "\n",
    "    # Buffer the points to create circles\n",
    "    grid_circles = [point.buffer(radius) for point in grid_points]\n",
    "\n",
    "    # Get the centroids of the circles\n",
    "    centroids = [circle.centroid for circle in grid_circles]\n",
    "\n",
    "    # Convert the centroids to the specified CRS\n",
    "    centroids = gpd.GeoSeries(centroids, crs=crs)\n",
    "\n",
    "    return gpd.GeoDataFrame(geometry=grid_circles), centroids\n",
    "\n",
    "def plot_circular_grid(filepath, radius_km, crs):\n",
    "    # Load geopackage and convert to a projected CRS (UTM zone 32N for country)\n",
    "    gdf = gpd.read_file(filepath)\n",
    "    gdf = gdf.to_crs('EPSG:3857')\n",
    "\n",
    "    # Get the total bounding box\n",
    "    minx, miny, maxx, maxy = gdf.total_bounds\n",
    "\n",
    "    # Convert radius to meters\n",
    "    radius_m = radius_km * 1000 * 2\n",
    "    grid_gdf, centroids = create_circular_grid(minx, miny, maxx, maxy, radius_m, crs)\n",
    "\n",
    "    grid_gdf.set_crs('EPSG:3857', inplace=True)\n",
    "\n",
    "    # Remove circles that are completely outside of the area\n",
    "    grid_gdf = grid_gdf[grid_gdf.geometry.intersects(gdf.unary_union)]\n",
    "\n",
    "    #remove circles whose centroid is outside the borders of country and updates the gird_gdf and centroids\n",
    "    grid_gdf = grid_gdf[grid_gdf.centroid.intersects(gdf.unary_union)]\n",
    "\n",
    "    # Now you can plot it\n",
    "    fig, ax = plt.subplots(1, 1)\n",
    "    gdf.plot(ax=ax, color='white', edgecolor='black')\n",
    "    grid_gdf.plot(ax=ax, color='red', alpha=0.5)  # alpha is for transparency\n",
    "    plt.show()\n",
    "\n",
    "    return grid_gdf, centroids\n",
    "\n",
    "# Example usage:\n",
    "crs = 'EPSG:3857'  # WGS 84\n",
    "grid_gdf, centroids = plot_circular_grid('gadm36_DEU.gpkg', 50, crs)\n",
    "\n",
    "\n",
    "#########################################"
   ]
  },
  {
   "cell_type": "code",
   "execution_count": null,
   "metadata": {},
   "outputs": [],
   "source": [
    "def plot_uncovered_areas(grid_gdf, germany, radius_km):\n",
    "    gdf.to_crs('EPSG:3857', inplace=True)\n",
    "    # Create a union of all the circle polygons\n",
    "    circle_union = grid_gdf.geometry.unary_union\n",
    "\n",
    "    # Perform a geometric difference operation\n",
    "    uncovered_areas = germany.geometry.unary_union.difference(circle_union)\n",
    "\n",
    "    # Convert the uncovered areas to a GeoSeries and explode it\n",
    "    uncovered_areas = gpd.GeoSeries(uncovered_areas)\n",
    "    uncovered_areas = uncovered_areas.explode(index_parts=True)\n",
    "\n",
    "    # Now you can plot it\n",
    "    fig, ax = plt.subplots(1, 1)\n",
    "    germany.plot(ax=ax, color='white', edgecolor='black')\n",
    "    uncovered_areas.plot(ax=ax, color='red', alpha=0.5)  # alpha is for transparency\n",
    "    plt.show()\n",
    "\n",
    "    return uncovered_areas\n",
    "\n",
    "gdf = gpd.read_file(filepath)\n",
    "gdf = gdf.to_crs('EPSG:3857')\n",
    "\n",
    "# Example usage:\n",
    "uncovered_areas = plot_uncovered_areas(grid_gdf, gdf, 50)\n"
   ]
  },
  {
   "cell_type": "markdown",
   "metadata": {},
   "source": [
    "to avoid unecessary circles, in each step of recursion, we add 1 circle to an uncovered area, and then recalculate the intersections, because often one circle can cover multiple uncovered areas. This leads to the least amount of circles possible with this method\n",
    "\n",
    "Future improvement could be achieved by calculating which uncovered centroid we should cover first that reduces the amount of uncovered areas by the highest amount, however this would be computationally intensive and only give a marginal benefit"
   ]
  },
  {
   "cell_type": "code",
   "execution_count": null,
   "metadata": {},
   "outputs": [],
   "source": [
    "def calculate_reduction(uncovered_area, uncovered_areas, grid_gdf, germany, radius_km):\n",
    "    original_len = len(uncovered_areas)\n",
    "    centroid = uncovered_area.centroid\n",
    "    new_gdf = gpd.GeoDataFrame(geometry=[centroid.buffer(radius_km * 1000*2)], crs=grid_gdf.crs)\n",
    "    grid_gdf_temp = pd.concat([grid_gdf, new_gdf], ignore_index=True)\n",
    "\n",
    "    # Create a union of all the circle polygons\n",
    "    circle_union = grid_gdf_temp.geometry.unary_union\n",
    "    uncovered_areas_temp = germany.geometry.unary_union.difference(circle_union)\n",
    "    uncovered_areas_temp = gpd.GeoSeries(uncovered_areas_temp)\n",
    "    uncovered_areas_temp = uncovered_areas_temp.explode(index_parts=True)\n",
    "    return original_len - len(uncovered_areas_temp)   \n",
    "\n",
    "def cover_uncovered_areas(grid_gdf, germany, radius_km, total_uncovered=None, prev_uncovered=None):\n",
    "    \n",
    "    # Creates a list of uncovered areas\n",
    "    circle_union = grid_gdf.geometry.unary_union\n",
    "    uncovered_areas = germany.geometry.unary_union.difference(circle_union)\n",
    "    uncovered_areas = gpd.GeoSeries(uncovered_areas)\n",
    "    uncovered_areas = uncovered_areas.explode(index_parts=True)\n",
    "\n",
    "    # If this is the first call to the function, set the total number of uncovered areas\n",
    "    if total_uncovered is None:\n",
    "        total_uncovered = len(uncovered_areas)\n",
    "        print(f'Total uncovered areas: {total_uncovered}')\n",
    "\n",
    "    if not uncovered_areas.empty:\n",
    "        # Get the first uncovered area\n",
    "        first_uncovered_area = uncovered_areas.iloc[0]\n",
    "\n",
    "        # Calculate the centroid of the first uncovered area\n",
    "        centroid = first_uncovered_area.centroid\n",
    "\n",
    "        #check if the centroid is within Germany\n",
    "        if germany.geometry.unary_union.contains(centroid):\n",
    "            # Create a new GeoDataFrame for the centroid\n",
    "            new_gdf = gpd.GeoDataFrame(geometry=[centroid.buffer(radius_km * 1000*2)], crs=grid_gdf.crs)\n",
    "            # Concatenate the new GeoDataFrame with the original one\n",
    "            grid_gdf = pd.concat([grid_gdf, new_gdf], ignore_index=True)\n",
    "        \n",
    "            #recalculate the circle union and the uncovered areas\n",
    "            circle_union = grid_gdf.geometry.unary_union\n",
    "            uncovered_areas = germany.geometry.unary_union.difference(circle_union)\n",
    "            uncovered_areas = gpd.GeoSeries(uncovered_areas)\n",
    "            uncovered_areas = uncovered_areas.explode(index_parts=True)\n",
    "            print(\"remaining uncovered areas: \" + str(len(uncovered_areas)))\n",
    "\n",
    "            if uncovered_areas.empty or all(area.is_empty for area in uncovered_areas):\n",
    "\n",
    "                return grid_gdf\n",
    "\n",
    "    # If not all areas are empty, make a recursive call\n",
    "    if not uncovered_areas.empty:\n",
    "        grid_gdf = cover_uncovered_areas(grid_gdf, germany, radius_km, total_uncovered, len(uncovered_areas))\n",
    "\n",
    "    return grid_gdf\n",
    "\n",
    "radius_km = 50  \n",
    "filepath = 'gadm36_DEU.gpkg'\n",
    "germany = gpd.read_file(filepath)\n",
    "germany = germany.to_crs('EPSG:3857')\n",
    "\n",
    "# Call the function\n",
    "result = cover_uncovered_areas(grid_gdf, gdf, radius_km)\n",
    "\n",
    "# Print the result\n",
    "print(result)"
   ]
  },
  {
   "cell_type": "code",
   "execution_count": null,
   "metadata": {},
   "outputs": [],
   "source": [
    "def plot_circles_on_map(grid_gdf, germany_filepath):\n",
    "    # Load geopackage and convert to a projected CRS (UTM zone 32N for country)\n",
    "    germany = gpd.read_file(germany_filepath)\n",
    "    germany = germany.to_crs('EPSG:3857')\n",
    "\n",
    "    # Now you can plot it\n",
    "    fig, ax = plt.subplots(1, 1)\n",
    "    germany.plot(ax=ax, color='white', edgecolor='black')\n",
    "    grid_gdf.plot(ax=ax, color='red', alpha=0.5)  # alpha is for transparency\n",
    "    plt.show()\n",
    "\n",
    "# Example usage:\n",
    "plot_circles_on_map(result, filepath)\n",
    "\n",
    "time_end = time.time()\n",
    "print(\"time elapsed: \" + str(time_end - time_start))"
   ]
  },
  {
   "cell_type": "code",
   "execution_count": 125,
   "metadata": {},
   "outputs": [
    {
     "name": "stdout",
     "output_type": "stream",
     "text": [
      "Total uncovered areas: 101\n"
     ]
    },
    {
     "name": "stderr",
     "output_type": "stream",
     "text": [
      "100%|██████████| 101/101 [00:40<00:00,  2.47it/s]\n"
     ]
    },
    {
     "name": "stdout",
     "output_type": "stream",
     "text": [
      "remaining uncovered areas: 70\n"
     ]
    },
    {
     "name": "stderr",
     "output_type": "stream",
     "text": [
      "100%|██████████| 70/70 [00:28<00:00,  2.48it/s]\n"
     ]
    },
    {
     "name": "stdout",
     "output_type": "stream",
     "text": [
      "remaining uncovered areas: 49\n"
     ]
    },
    {
     "name": "stderr",
     "output_type": "stream",
     "text": [
      "100%|██████████| 49/49 [00:19<00:00,  2.47it/s]\n"
     ]
    },
    {
     "name": "stdout",
     "output_type": "stream",
     "text": [
      "remaining uncovered areas: 35\n"
     ]
    },
    {
     "name": "stderr",
     "output_type": "stream",
     "text": [
      "100%|██████████| 35/35 [00:14<00:00,  2.47it/s]\n"
     ]
    },
    {
     "name": "stdout",
     "output_type": "stream",
     "text": [
      "remaining uncovered areas: 29\n"
     ]
    },
    {
     "name": "stderr",
     "output_type": "stream",
     "text": [
      "100%|██████████| 29/29 [00:11<00:00,  2.47it/s]\n"
     ]
    },
    {
     "name": "stdout",
     "output_type": "stream",
     "text": [
      "remaining uncovered areas: 23\n"
     ]
    },
    {
     "name": "stderr",
     "output_type": "stream",
     "text": [
      "100%|██████████| 23/23 [00:09<00:00,  2.44it/s]\n"
     ]
    },
    {
     "name": "stdout",
     "output_type": "stream",
     "text": [
      "remaining uncovered areas: 21\n"
     ]
    },
    {
     "name": "stderr",
     "output_type": "stream",
     "text": [
      "100%|██████████| 21/21 [00:08<00:00,  2.44it/s]\n"
     ]
    },
    {
     "name": "stdout",
     "output_type": "stream",
     "text": [
      "remaining uncovered areas: 19\n"
     ]
    },
    {
     "name": "stderr",
     "output_type": "stream",
     "text": [
      "100%|██████████| 19/19 [00:07<00:00,  2.42it/s]\n"
     ]
    },
    {
     "name": "stdout",
     "output_type": "stream",
     "text": [
      "remaining uncovered areas: 17\n"
     ]
    },
    {
     "name": "stderr",
     "output_type": "stream",
     "text": [
      "100%|██████████| 17/17 [00:07<00:00,  2.38it/s]\n"
     ]
    },
    {
     "name": "stdout",
     "output_type": "stream",
     "text": [
      "remaining uncovered areas: 15\n"
     ]
    },
    {
     "name": "stderr",
     "output_type": "stream",
     "text": [
      "100%|██████████| 15/15 [00:06<00:00,  2.41it/s]\n"
     ]
    },
    {
     "name": "stdout",
     "output_type": "stream",
     "text": [
      "remaining uncovered areas: 13\n"
     ]
    },
    {
     "name": "stderr",
     "output_type": "stream",
     "text": [
      "100%|██████████| 13/13 [00:05<00:00,  2.36it/s]\n"
     ]
    },
    {
     "name": "stdout",
     "output_type": "stream",
     "text": [
      "remaining uncovered areas: 12\n"
     ]
    },
    {
     "name": "stderr",
     "output_type": "stream",
     "text": [
      "100%|██████████| 12/12 [00:05<00:00,  2.38it/s]\n"
     ]
    },
    {
     "name": "stdout",
     "output_type": "stream",
     "text": [
      "remaining uncovered areas: 11\n"
     ]
    },
    {
     "name": "stderr",
     "output_type": "stream",
     "text": [
      "100%|██████████| 11/11 [00:04<00:00,  2.46it/s]\n"
     ]
    },
    {
     "name": "stdout",
     "output_type": "stream",
     "text": [
      "remaining uncovered areas: 10\n"
     ]
    },
    {
     "name": "stderr",
     "output_type": "stream",
     "text": [
      "100%|██████████| 10/10 [00:04<00:00,  2.46it/s]\n"
     ]
    },
    {
     "name": "stdout",
     "output_type": "stream",
     "text": [
      "remaining uncovered areas: 9\n"
     ]
    },
    {
     "name": "stderr",
     "output_type": "stream",
     "text": [
      "100%|██████████| 9/9 [00:03<00:00,  2.45it/s]\n"
     ]
    },
    {
     "name": "stdout",
     "output_type": "stream",
     "text": [
      "remaining uncovered areas: 8\n"
     ]
    },
    {
     "name": "stderr",
     "output_type": "stream",
     "text": [
      "100%|██████████| 8/8 [00:03<00:00,  2.44it/s]\n"
     ]
    },
    {
     "name": "stdout",
     "output_type": "stream",
     "text": [
      "remaining uncovered areas: 7\n"
     ]
    },
    {
     "name": "stderr",
     "output_type": "stream",
     "text": [
      "100%|██████████| 7/7 [00:02<00:00,  2.46it/s]\n"
     ]
    },
    {
     "name": "stdout",
     "output_type": "stream",
     "text": [
      "remaining uncovered areas: 6\n"
     ]
    },
    {
     "name": "stderr",
     "output_type": "stream",
     "text": [
      "100%|██████████| 6/6 [00:02<00:00,  2.45it/s]\n"
     ]
    },
    {
     "name": "stdout",
     "output_type": "stream",
     "text": [
      "remaining uncovered areas: 5\n"
     ]
    },
    {
     "name": "stderr",
     "output_type": "stream",
     "text": [
      "100%|██████████| 5/5 [00:02<00:00,  2.45it/s]\n"
     ]
    },
    {
     "name": "stdout",
     "output_type": "stream",
     "text": [
      "remaining uncovered areas: 4\n"
     ]
    },
    {
     "name": "stderr",
     "output_type": "stream",
     "text": [
      "100%|██████████| 4/4 [00:01<00:00,  2.44it/s]\n"
     ]
    },
    {
     "name": "stdout",
     "output_type": "stream",
     "text": [
      "remaining uncovered areas: 3\n"
     ]
    },
    {
     "name": "stderr",
     "output_type": "stream",
     "text": [
      "100%|██████████| 3/3 [00:01<00:00,  2.48it/s]\n"
     ]
    },
    {
     "name": "stdout",
     "output_type": "stream",
     "text": [
      "remaining uncovered areas: 2\n"
     ]
    },
    {
     "name": "stderr",
     "output_type": "stream",
     "text": [
      "100%|██████████| 2/2 [00:00<00:00,  2.43it/s]\n"
     ]
    },
    {
     "ename": "UnboundLocalError",
     "evalue": "cannot access local variable 'grid_gdf_temp' where it is not associated with a value",
     "output_type": "error",
     "traceback": [
      "\u001b[0;31m---------------------------------------------------------------------------\u001b[0m",
      "\u001b[0;31mUnboundLocalError\u001b[0m                         Traceback (most recent call last)",
      "\u001b[1;32m/Users/svenasmussen/Documents/GitHub/tiling_country_with_radius/tiling_hexagonal.ipynb Cell 7\u001b[0m line \u001b[0;36m6\n\u001b[1;32m     <a href='vscode-notebook-cell:/Users/svenasmussen/Documents/GitHub/tiling_country_with_radius/tiling_hexagonal.ipynb#X21sZmlsZQ%3D%3D?line=58'>59</a>\u001b[0m germany \u001b[39m=\u001b[39m germany\u001b[39m.\u001b[39mto_crs(\u001b[39m'\u001b[39m\u001b[39mEPSG:3857\u001b[39m\u001b[39m'\u001b[39m)\n\u001b[1;32m     <a href='vscode-notebook-cell:/Users/svenasmussen/Documents/GitHub/tiling_country_with_radius/tiling_hexagonal.ipynb#X21sZmlsZQ%3D%3D?line=60'>61</a>\u001b[0m \u001b[39m# Call the function\u001b[39;00m\n\u001b[0;32m---> <a href='vscode-notebook-cell:/Users/svenasmussen/Documents/GitHub/tiling_country_with_radius/tiling_hexagonal.ipynb#X21sZmlsZQ%3D%3D?line=61'>62</a>\u001b[0m result \u001b[39m=\u001b[39m cover_uncovered_areas(grid_gdf, gdf, radius_km)\n\u001b[1;32m     <a href='vscode-notebook-cell:/Users/svenasmussen/Documents/GitHub/tiling_country_with_radius/tiling_hexagonal.ipynb#X21sZmlsZQ%3D%3D?line=63'>64</a>\u001b[0m \u001b[39m# Print the result\u001b[39;00m\n\u001b[1;32m     <a href='vscode-notebook-cell:/Users/svenasmussen/Documents/GitHub/tiling_country_with_radius/tiling_hexagonal.ipynb#X21sZmlsZQ%3D%3D?line=64'>65</a>\u001b[0m \u001b[39mprint\u001b[39m(result)\n",
      "\u001b[1;32m/Users/svenasmussen/Documents/GitHub/tiling_country_with_radius/tiling_hexagonal.ipynb Cell 7\u001b[0m line \u001b[0;36m5\n\u001b[1;32m     <a href='vscode-notebook-cell:/Users/svenasmussen/Documents/GitHub/tiling_country_with_radius/tiling_hexagonal.ipynb#X21sZmlsZQ%3D%3D?line=49'>50</a>\u001b[0m \u001b[39m# If not all areas are empty, make a recursive call\u001b[39;00m\n\u001b[1;32m     <a href='vscode-notebook-cell:/Users/svenasmussen/Documents/GitHub/tiling_country_with_radius/tiling_hexagonal.ipynb#X21sZmlsZQ%3D%3D?line=50'>51</a>\u001b[0m \u001b[39mif\u001b[39;00m \u001b[39mnot\u001b[39;00m uncovered_areas\u001b[39m.\u001b[39mempty:\n\u001b[0;32m---> <a href='vscode-notebook-cell:/Users/svenasmussen/Documents/GitHub/tiling_country_with_radius/tiling_hexagonal.ipynb#X21sZmlsZQ%3D%3D?line=51'>52</a>\u001b[0m     grid_gdf \u001b[39m=\u001b[39m cover_uncovered_areas(grid_gdf, germany, radius_km, total_uncovered, \u001b[39mlen\u001b[39;49m(uncovered_areas))\n\u001b[1;32m     <a href='vscode-notebook-cell:/Users/svenasmussen/Documents/GitHub/tiling_country_with_radius/tiling_hexagonal.ipynb#X21sZmlsZQ%3D%3D?line=53'>54</a>\u001b[0m \u001b[39mreturn\u001b[39;00m grid_gdf\n",
      "\u001b[1;32m/Users/svenasmussen/Documents/GitHub/tiling_country_with_radius/tiling_hexagonal.ipynb Cell 7\u001b[0m line \u001b[0;36m5\n\u001b[1;32m     <a href='vscode-notebook-cell:/Users/svenasmussen/Documents/GitHub/tiling_country_with_radius/tiling_hexagonal.ipynb#X21sZmlsZQ%3D%3D?line=49'>50</a>\u001b[0m \u001b[39m# If not all areas are empty, make a recursive call\u001b[39;00m\n\u001b[1;32m     <a href='vscode-notebook-cell:/Users/svenasmussen/Documents/GitHub/tiling_country_with_radius/tiling_hexagonal.ipynb#X21sZmlsZQ%3D%3D?line=50'>51</a>\u001b[0m \u001b[39mif\u001b[39;00m \u001b[39mnot\u001b[39;00m uncovered_areas\u001b[39m.\u001b[39mempty:\n\u001b[0;32m---> <a href='vscode-notebook-cell:/Users/svenasmussen/Documents/GitHub/tiling_country_with_radius/tiling_hexagonal.ipynb#X21sZmlsZQ%3D%3D?line=51'>52</a>\u001b[0m     grid_gdf \u001b[39m=\u001b[39m cover_uncovered_areas(grid_gdf, germany, radius_km, total_uncovered, \u001b[39mlen\u001b[39;49m(uncovered_areas))\n\u001b[1;32m     <a href='vscode-notebook-cell:/Users/svenasmussen/Documents/GitHub/tiling_country_with_radius/tiling_hexagonal.ipynb#X21sZmlsZQ%3D%3D?line=53'>54</a>\u001b[0m \u001b[39mreturn\u001b[39;00m grid_gdf\n",
      "    \u001b[0;31m[... skipping similar frames: cover_uncovered_areas at line 52 (18 times)]\u001b[0m\n",
      "\u001b[1;32m/Users/svenasmussen/Documents/GitHub/tiling_country_with_radius/tiling_hexagonal.ipynb Cell 7\u001b[0m line \u001b[0;36m5\n\u001b[1;32m     <a href='vscode-notebook-cell:/Users/svenasmussen/Documents/GitHub/tiling_country_with_radius/tiling_hexagonal.ipynb#X21sZmlsZQ%3D%3D?line=49'>50</a>\u001b[0m \u001b[39m# If not all areas are empty, make a recursive call\u001b[39;00m\n\u001b[1;32m     <a href='vscode-notebook-cell:/Users/svenasmussen/Documents/GitHub/tiling_country_with_radius/tiling_hexagonal.ipynb#X21sZmlsZQ%3D%3D?line=50'>51</a>\u001b[0m \u001b[39mif\u001b[39;00m \u001b[39mnot\u001b[39;00m uncovered_areas\u001b[39m.\u001b[39mempty:\n\u001b[0;32m---> <a href='vscode-notebook-cell:/Users/svenasmussen/Documents/GitHub/tiling_country_with_radius/tiling_hexagonal.ipynb#X21sZmlsZQ%3D%3D?line=51'>52</a>\u001b[0m     grid_gdf \u001b[39m=\u001b[39m cover_uncovered_areas(grid_gdf, germany, radius_km, total_uncovered, \u001b[39mlen\u001b[39;49m(uncovered_areas))\n\u001b[1;32m     <a href='vscode-notebook-cell:/Users/svenasmussen/Documents/GitHub/tiling_country_with_radius/tiling_hexagonal.ipynb#X21sZmlsZQ%3D%3D?line=53'>54</a>\u001b[0m \u001b[39mreturn\u001b[39;00m grid_gdf\n",
      "\u001b[1;32m/Users/svenasmussen/Documents/GitHub/tiling_country_with_radius/tiling_hexagonal.ipynb Cell 7\u001b[0m line \u001b[0;36m3\n\u001b[1;32m     <a href='vscode-notebook-cell:/Users/svenasmussen/Documents/GitHub/tiling_country_with_radius/tiling_hexagonal.ipynb#X21sZmlsZQ%3D%3D?line=34'>35</a>\u001b[0m         reduction_temp \u001b[39m=\u001b[39m reduction\n\u001b[1;32m     <a href='vscode-notebook-cell:/Users/svenasmussen/Documents/GitHub/tiling_country_with_radius/tiling_hexagonal.ipynb#X21sZmlsZQ%3D%3D?line=35'>36</a>\u001b[0m         grid_gdf_temp \u001b[39m=\u001b[39m grid_gdf_temp_1\n\u001b[0;32m---> <a href='vscode-notebook-cell:/Users/svenasmussen/Documents/GitHub/tiling_country_with_radius/tiling_hexagonal.ipynb#X21sZmlsZQ%3D%3D?line=37'>38</a>\u001b[0m grid_gdf \u001b[39m=\u001b[39m grid_gdf_temp\n\u001b[1;32m     <a href='vscode-notebook-cell:/Users/svenasmussen/Documents/GitHub/tiling_country_with_radius/tiling_hexagonal.ipynb#X21sZmlsZQ%3D%3D?line=39'>40</a>\u001b[0m circle_union \u001b[39m=\u001b[39m grid_gdf\u001b[39m.\u001b[39mgeometry\u001b[39m.\u001b[39munary_union\n\u001b[1;32m     <a href='vscode-notebook-cell:/Users/svenasmussen/Documents/GitHub/tiling_country_with_radius/tiling_hexagonal.ipynb#X21sZmlsZQ%3D%3D?line=40'>41</a>\u001b[0m uncovered_areas \u001b[39m=\u001b[39m germany\u001b[39m.\u001b[39mgeometry\u001b[39m.\u001b[39munary_union\u001b[39m.\u001b[39mdifference(circle_union)\n",
      "\u001b[0;31mUnboundLocalError\u001b[0m: cannot access local variable 'grid_gdf_temp' where it is not associated with a value"
     ]
    }
   ],
   "source": [
    "from tqdm import tqdm\n",
    "\n",
    "def calculate_reduction(uncovered_area, uncovered_areas, grid_gdf, germany, radius_km):\n",
    "    original_len = len(uncovered_areas)\n",
    "    centroid = uncovered_area.centroid\n",
    "    new_gdf = gpd.GeoDataFrame(geometry=[centroid.buffer(radius_km * 1000*2)], crs=grid_gdf.crs)\n",
    "    grid_gdf_temp = pd.concat([grid_gdf, new_gdf], ignore_index=True)\n",
    "\n",
    "    # Create a union of all the circle polygons\n",
    "    circle_union = grid_gdf_temp.geometry.unary_union\n",
    "    uncovered_areas_temp = germany.geometry.unary_union.difference(circle_union)\n",
    "    uncovered_areas_temp = gpd.GeoSeries(uncovered_areas_temp)\n",
    "    uncovered_areas_temp = uncovered_areas_temp.explode(index_parts=True)\n",
    "    return original_len - len(uncovered_areas_temp), grid_gdf_temp\n",
    "\n",
    "def cover_uncovered_areas(grid_gdf, germany, radius_km, total_uncovered=None, prev_uncovered=None):\n",
    "    \n",
    "    # Creates a list of uncovered areas\n",
    "    circle_union = grid_gdf.geometry.unary_union\n",
    "    uncovered_areas = germany.geometry.unary_union.difference(circle_union)\n",
    "    uncovered_areas = gpd.GeoSeries(uncovered_areas)\n",
    "    uncovered_areas = uncovered_areas.explode(index_parts=True)\n",
    "\n",
    "    # If this is the first call to the function, set the total number of uncovered areas\n",
    "    if total_uncovered is None:\n",
    "        total_uncovered = len(uncovered_areas)\n",
    "        print(f'Total uncovered areas: {total_uncovered}')\n",
    "\n",
    "    if not uncovered_areas.empty:\n",
    "        reduction = 0\n",
    "        reduction_temp = 0\n",
    "        for area in tqdm(uncovered_areas):\n",
    "            reduction, grid_gdf_temp_1 = calculate_reduction(area, uncovered_areas, grid_gdf, germany, radius_km)\n",
    "            if reduction > reduction_temp:\n",
    "                reduction_temp = reduction\n",
    "                grid_gdf_temp = grid_gdf_temp_1\n",
    "        \n",
    "        grid_gdf = grid_gdf_temp\n",
    "\n",
    "        circle_union = grid_gdf.geometry.unary_union\n",
    "        uncovered_areas = germany.geometry.unary_union.difference(circle_union)\n",
    "        uncovered_areas = gpd.GeoSeries(uncovered_areas)\n",
    "        uncovered_areas = uncovered_areas.explode(index_parts=True)\n",
    "        print(\"remaining uncovered areas: \" + str(len(uncovered_areas)))\n",
    "\n",
    "        if uncovered_areas.empty or all(area.is_empty for area in uncovered_areas):\n",
    "\n",
    "            return grid_gdf\n",
    "\n",
    "    # If not all areas are empty, make a recursive call\n",
    "    if not uncovered_areas.empty:\n",
    "        grid_gdf = cover_uncovered_areas(grid_gdf, germany, radius_km, total_uncovered, len(uncovered_areas))\n",
    "\n",
    "    return grid_gdf\n",
    "\n",
    "radius_km = 50  \n",
    "filepath = 'gadm36_DEU.gpkg'\n",
    "germany = gpd.read_file(filepath)\n",
    "germany = germany.to_crs('EPSG:3857')\n",
    "\n",
    "# Call the function\n",
    "result = cover_uncovered_areas(grid_gdf, gdf, radius_km)\n",
    "\n",
    "# Print the result\n",
    "print(result)"
   ]
  }
 ],
 "metadata": {
  "kernelspec": {
   "display_name": "Python 3",
   "language": "python",
   "name": "python3"
  },
  "language_info": {
   "codemirror_mode": {
    "name": "ipython",
    "version": 3
   },
   "file_extension": ".py",
   "mimetype": "text/x-python",
   "name": "python",
   "nbconvert_exporter": "python",
   "pygments_lexer": "ipython3",
   "version": "3.11.4"
  }
 },
 "nbformat": 4,
 "nbformat_minor": 2
}
